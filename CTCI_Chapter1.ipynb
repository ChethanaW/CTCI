{
  "nbformat": 4,
  "nbformat_minor": 0,
  "metadata": {
    "colab": {
      "name": "CTCI_Chapter1.ipynb",
      "provenance": [],
      "collapsed_sections": [],
      "authorship_tag": "ABX9TyPR5UyxeB+R9VXgQH7FSVc+",
      "include_colab_link": true
    },
    "kernelspec": {
      "name": "python3",
      "display_name": "Python 3"
    },
    "language_info": {
      "name": "python"
    }
  },
  "cells": [
    {
      "cell_type": "markdown",
      "metadata": {
        "id": "view-in-github",
        "colab_type": "text"
      },
      "source": [
        "<a href=\"https://colab.research.google.com/github/ChethanaW/CTCI/blob/main/CTCI_Chapter1.ipynb\" target=\"_parent\"><img src=\"https://colab.research.google.com/assets/colab-badge.svg\" alt=\"Open In Colab\"/></a>"
      ]
    },
    {
      "cell_type": "markdown",
      "metadata": {
        "id": "DJsQDBHE_YZY"
      },
      "source": [
        "#Chapter 1 Arrays and Strings"
      ]
    },
    {
      "cell_type": "code",
      "metadata": {
        "id": "zRmPzI_0--Wq"
      },
      "source": [
        "def merge(words, more):\n",
        "  array = []\n",
        "\n",
        "  for w in words:\n",
        "    array.append(w)\n",
        "\n",
        "  for w in more:\n",
        "    array.append(w)\n",
        "\n",
        "  return array\n",
        "\n",
        "#string builder\n",
        "\n",
        "def joinWords(words):\n",
        "  sentence = \"\"\n",
        "  for w in words:\n",
        "    sentence += w\n",
        "\n",
        "  return sentence"
      ],
      "execution_count": 10,
      "outputs": []
    },
    {
      "cell_type": "code",
      "metadata": {
        "colab": {
          "base_uri": "https://localhost:8080/",
          "height": 35
        },
        "id": "swQkumKB_WqD",
        "outputId": "05c93df3-215c-412d-8ab1-40bf7fc717de"
      },
      "source": [
        "merge([\"a\", \"b\"], [\"c\", \"d\"])\n",
        "\n",
        "joinWords([\"My \", \"age is \", \"5\"])"
      ],
      "execution_count": 11,
      "outputs": [
        {
          "output_type": "execute_result",
          "data": {
            "application/vnd.google.colaboratory.intrinsic+json": {
              "type": "string"
            },
            "text/plain": [
              "'My age is 5'"
            ]
          },
          "metadata": {
            "tags": []
          },
          "execution_count": 11
        }
      ]
    },
    {
      "cell_type": "code",
      "metadata": {
        "id": "P562GKTXC0I2"
      },
      "source": [
        "#interview Question 1.1\n",
        "# Is unique: Implement an algorithm to determin if a string has all unique characters. What if you cannot use additional structures.\n",
        "\n",
        "#My Answer\n",
        "def unique_or_not(string):\n",
        "  a = []\n",
        "\n",
        "  for i in string:\n",
        "    if i in a:\n",
        "      return \"not unique\"\n",
        "    else:\n",
        "      a.append(i)\n",
        "\n",
        "  return \"unique\""
      ],
      "execution_count": 32,
      "outputs": []
    },
    {
      "cell_type": "code",
      "metadata": {
        "colab": {
          "base_uri": "https://localhost:8080/",
          "height": 36
        },
        "id": "sna2x5UfD7Qu",
        "outputId": "853c8a19-b4a7-45b5-826d-1958445f8137"
      },
      "source": [
        "unique_or_not(\"sdfg#%^&*((h567\")"
      ],
      "execution_count": 38,
      "outputs": [
        {
          "output_type": "execute_result",
          "data": {
            "application/vnd.google.colaboratory.intrinsic+json": {
              "type": "string"
            },
            "text/plain": [
              "'not unique'"
            ]
          },
          "metadata": {
            "tags": []
          },
          "execution_count": 38
        }
      ]
    },
    {
      "cell_type": "code",
      "metadata": {
        "colab": {
          "base_uri": "https://localhost:8080/"
        },
        "id": "BopY6dPpH_px",
        "outputId": "ae2c6877-6502-435b-8b82-c578b055943f"
      },
      "source": [
        "#learning\n",
        "\n",
        "char_set = [False] * 128\n",
        "type(char_set) # finding the type\n",
        "\n",
        "ord(\"a\") #getiing the ascii value\n",
        "\n",
        "2 << 3 # 2* 2**3\n",
        "\n",
        "8 >> 2 # 6/ 2**2\n",
        "\n",
        "s = {\"1\",\"2\"} \n",
        "s2 = {\"4\",\"5\"}\n",
        "s |= s2 # s or the rest of the employe\n",
        "s\n",
        "\n",
        "checker = 0\n",
        "checker |= 1 << 3 # updating\n",
        "\n",
        "checker"
      ],
      "execution_count": 68,
      "outputs": [
        {
          "output_type": "execute_result",
          "data": {
            "text/plain": [
              "8"
            ]
          },
          "metadata": {
            "tags": []
          },
          "execution_count": 68
        }
      ]
    }
  ]
}